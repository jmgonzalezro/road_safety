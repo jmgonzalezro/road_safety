{
 "cells": [
  {
   "cell_type": "code",
   "execution_count": 1,
   "metadata": {},
   "outputs": [],
   "source": [
    "import pandas as pd"
   ]
  },
  {
   "cell_type": "code",
   "execution_count": null,
   "metadata": {},
   "outputs": [],
   "source": [
    "df_accident = pd.read_csv('~/proyectos/road_safety/data/dft-road-casualty-statistics-accident-2020.csv')\n",
    "df_vehicle = pd.read_csv('~/proyectos/road_safety/data/dft-road-casualty-statistics-vehicle-2020.csv')\n",
    "df_casuality = pd.read_csv('~/proyectos/road_safety/data/dft-road-casualty-statistics-casualty-2020.csv')\n",
    "\n",
    "df_accident.columns"
   ]
  },
  {
   "cell_type": "code",
   "execution_count": 12,
   "metadata": {},
   "outputs": [
    {
     "data": {
      "text/plain": [
       "accident_index                        0\n",
       "accident_year                         0\n",
       "accident_reference                    0\n",
       "vehicle_reference                     0\n",
       "casualty_reference                    0\n",
       "casualty_class                        0\n",
       "sex_of_casualty                       0\n",
       "age_of_casualty                       0\n",
       "age_band_of_casualty                  0\n",
       "casualty_severity                     0\n",
       "pedestrian_location                   0\n",
       "pedestrian_movement                   0\n",
       "car_passenger                         0\n",
       "bus_or_coach_passenger                0\n",
       "pedestrian_road_maintenance_worker    0\n",
       "casualty_type                         0\n",
       "casualty_home_area_type               0\n",
       "casualty_imd_decile                   0\n",
       "dtype: int64"
      ]
     },
     "execution_count": 12,
     "metadata": {},
     "output_type": "execute_result"
    }
   ],
   "source": [
    "df_casuality.isnull().sum()"
   ]
  },
  {
   "cell_type": "markdown",
   "metadata": {},
   "source": [
    "We only have missing data in accident dataframe. This are the columns with missing data:\n",
    "- location_easting_osgr                          14\n",
    "- location_northing_osgr                         14\n",
    "- longitude                                      14\n",
    "- latitude                                       14"
   ]
  }
 ],
 "metadata": {
  "interpreter": {
   "hash": "99199f47f235ebae90308dea99dd3d73283736e344a17fd5ded9caa741c131c1"
  },
  "kernelspec": {
   "display_name": "Python 3.10.1 ('env': venv)",
   "language": "python",
   "name": "python3"
  },
  "language_info": {
   "codemirror_mode": {
    "name": "ipython",
    "version": 3
   },
   "file_extension": ".py",
   "mimetype": "text/x-python",
   "name": "python",
   "nbconvert_exporter": "python",
   "pygments_lexer": "ipython3",
   "version": "3.10.1"
  },
  "orig_nbformat": 4
 },
 "nbformat": 4,
 "nbformat_minor": 2
}
